{
 "cells": [
  {
   "cell_type": "markdown",
   "metadata": {},
   "source": [
    "**Data Frame**"
   ]
  },
  {
   "cell_type": "code",
   "execution_count": null,
   "metadata": {},
   "outputs": [],
   "source": [
    "import pandas as pd\n",
    "\n",
    "# Membaca Data\n",
    "data1 = pd.read_excel('angin.xlsx')\n",
    "data2 = pd.read_excel('banjir.xlsx')\n",
    "data3 = pd.read_excel('pasang.xlsx')\n",
    "\n",
    "# Menggabungkan data\n",
    "data_gabung = pd.concat([data1, data2, data3], ignore_index=True)\n",
    "\n",
    "# Eksplorasi data\n",
    "print(data_gabung.head(10))\n",
    "print(data_gabung.tail(10))\n",
    "print(data_gabung.info())\n",
    "print(data_gabung.describe())\n",
    "\n",
    "# Memanipulasi Data\n",
    "drop = data_gabung.drop('nama_provinsi', axis=1)\n",
    "drop = data_gabung.dropna()\n",
    "print(drop)\n",
    "rename = data_gabung.rename(columns={'id': 'No'})\n",
    "print(rename)\n",
    "sort = data_gabung.sort_values(by='tahun')\n",
    "print(sort)\n",
    "\n",
    "# Mengelompokan Data\n",
    "mean = data_gabung.groupby('kode_kabupaten_kota').mean()\n",
    "aggregasi = data_gabung.groupby('kode_kabupaten_kota').agg({'nama_kabupaten_kota': 'sum'})\n",
    "\n",
    "# Seleksi Data\n",
    "data_gabung[['kode_provinsi','nama_provinsi']]\n",
    "data_gabung.iloc[1,2]\n",
    "data_gabung.iloc[1,'nama_profinsi']\n"
   ]
  }
 ],
 "metadata": {
  "language_info": {
   "name": "python"
  }
 },
 "nbformat": 4,
 "nbformat_minor": 2
}
