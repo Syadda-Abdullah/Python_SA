{
 "cells": [
  {
   "cell_type": "markdown",
   "metadata": {},
   "source": [
    "**Menentukan Upacara**"
   ]
  },
  {
   "cell_type": "code",
   "execution_count": 5,
   "metadata": {},
   "outputs": [
    {
     "name": "stdout",
     "output_type": "stream",
     "text": [
      "Hari senin Upacara\n"
     ]
    }
   ],
   "source": [
    "hari = input(\"Masukan Hari =\")\n",
    "\n",
    "def upacara (up):\n",
    "    if up == \"senin\" :\n",
    "      print(\"Hari senin Upacara\")\n",
    "    else:\n",
    "      print(f\"Hari {up} tidak upacara\")\n",
    "\n",
    "upacara(hari)"
   ]
  },
  {
   "cell_type": "markdown",
   "metadata": {},
   "source": [
    "**Menentukan Upacara Dengan Kondisi**"
   ]
  },
  {
   "cell_type": "code",
   "execution_count": 6,
   "metadata": {},
   "outputs": [
    {
     "name": "stdout",
     "output_type": "stream",
     "text": [
      "Hari Senin Upacara Tapi kamu sakit\n"
     ]
    }
   ],
   "source": [
    "hari = input(\"Masukan Hari = \")\n",
    "kondisi = input(\"Apakah sakit (sakit/sehat) = \")\n",
    "\n",
    "def upacara (h,k):\n",
    "    if h.lower() == \"senin\" and k.lower() == \"sehat\":\n",
    "      print(\"Hari senin Upacara dan kamu Sehat walafiat\")\n",
    "    elif h.lower() == \"senin\" and k.lower() ==\"sakit\":\n",
    "      print(f\"Hari Senin Upacara Tapi kamu {k}\")\n",
    "    else:\n",
    "      print(f\"Hari {h} tidak upacara dan kamu {k}\")\n",
    "\n",
    "upacara(hari,kondisi)\n"
   ]
  },
  {
   "cell_type": "markdown",
   "metadata": {},
   "source": [
    "**Kuadrat**"
   ]
  },
  {
   "cell_type": "code",
   "execution_count": 7,
   "metadata": {},
   "outputs": [
    {
     "name": "stdout",
     "output_type": "stream",
     "text": [
      "kuadrat dari 8 adalah 64\n"
     ]
    }
   ],
   "source": [
    "angka = int(input(\"Masukan Angka = \"))\n",
    "\n",
    "def kuadrat(K):\n",
    "    return K ** 2\n",
    "\n",
    "hasil = kuadrat(angka)\n",
    "print(f\"kuadrat dari {angka} adalah \" + str(hasil))"
   ]
  },
  {
   "cell_type": "markdown",
   "metadata": {},
   "source": [
    "**Fungsi Global, Nonlocal, Local**"
   ]
  },
  {
   "cell_type": "code",
   "execution_count": 8,
   "metadata": {},
   "outputs": [
    {
     "name": "stdout",
     "output_type": "stream",
     "text": [
      "jenis hewan pertama adalah Ayam\n",
      "jenis hewan kedua adalah Harimau\n",
      "jenis hewan ketiga adalah Harimau\n",
      "jenis hewan adalah Gajah\n"
     ]
    }
   ],
   "source": [
    "def hewan():\n",
    "  def hewan1():\n",
    "    jenis = \"Angsa\"\n",
    "  def hewan2():\n",
    "    nonlocal jenis\n",
    "    jenis = \"Harimau\"\n",
    "  def hewan3():\n",
    "    global jenis\n",
    "    jenis = \"Gajah\"\n",
    "\n",
    "  jenis = \"Ayam\"\n",
    "  hewan1()\n",
    "  print (f\"jenis hewan pertama adalah {jenis}\")\n",
    "  hewan2()\n",
    "  print (f\"jenis hewan kedua adalah {jenis}\")\n",
    "  hewan3()\n",
    "  print (f\"jenis hewan ketiga adalah {jenis}\")\n",
    "\n",
    "hewan()\n",
    "print(f\"jenis hewan adalah {jenis}\")\n",
    "\n"
   ]
  },
  {
   "cell_type": "markdown",
   "metadata": {},
   "source": [
    "**Manajemen Penilaian Mahasiswa**"
   ]
  },
  {
   "cell_type": "code",
   "execution_count": 9,
   "metadata": {},
   "outputs": [
    {
     "name": "stdout",
     "output_type": "stream",
     "text": [
      "\n",
      "Manajemen Penilaian Mahasiswa\n",
      "1. Tambah Nilai\n",
      "2. Hitung Rata-rata\n",
      "3. Daftar Nilai Tertinggi dan Terendah\n",
      "4. Keluar\n",
      "\n",
      "Manajemen Penilaian Mahasiswa\n",
      "1. Tambah Nilai\n",
      "2. Hitung Rata-rata\n",
      "3. Daftar Nilai Tertinggi dan Terendah\n",
      "4. Keluar\n",
      "\n",
      "Manajemen Penilaian Mahasiswa\n",
      "1. Tambah Nilai\n",
      "2. Hitung Rata-rata\n",
      "3. Daftar Nilai Tertinggi dan Terendah\n",
      "4. Keluar\n",
      "\n",
      "Manajemen Penilaian Mahasiswa\n",
      "1. Tambah Nilai\n",
      "2. Hitung Rata-rata\n",
      "3. Daftar Nilai Tertinggi dan Terendah\n",
      "4. Keluar\n",
      "Rata-rata nilai seluruh mahasiswa: 85.33\n",
      "\n",
      "Manajemen Penilaian Mahasiswa\n",
      "1. Tambah Nilai\n",
      "2. Hitung Rata-rata\n",
      "3. Daftar Nilai Tertinggi dan Terendah\n",
      "4. Keluar\n",
      "Nilai tertinggi: 90.0\n",
      "Nilai terendah: 78.0\n",
      "\n",
      "Manajemen Penilaian Mahasiswa\n",
      "1. Tambah Nilai\n",
      "2. Hitung Rata-rata\n",
      "3. Daftar Nilai Tertinggi dan Terendah\n",
      "4. Keluar\n"
     ]
    }
   ],
   "source": [
    "# Dictionary untuk menyimpan data mahasiswa dan nilai\n",
    "data_mahasiswa = {}\n",
    "\n",
    "# Fungsi untuk menambahkan nilai mahasiswa\n",
    "def tambah_nilai():\n",
    "    nama_mahasiswa = input(\"Masukkan nama mahasiswa: \")\n",
    "    nilai = float(input(\"Masukkan nilai mahasiswa: \"))\n",
    "\n",
    "    if nama_mahasiswa in data_mahasiswa:\n",
    "        data_mahasiswa[nama_mahasiswa].append(nilai)\n",
    "    else:\n",
    "        data_mahasiswa[nama_mahasiswa] = [nilai]\n",
    "\n",
    "# Fungsi untuk menghitung rata-rata nilai seluruh mahasiswa\n",
    "def hitung_rata_rata():\n",
    "    total_nilai = 0\n",
    "    jumlah_mahasiswa = 0\n",
    "\n",
    "    for nilai_mahasiswa in data_mahasiswa.values():\n",
    "        total_nilai += sum(nilai_mahasiswa)\n",
    "        jumlah_mahasiswa += len(nilai_mahasiswa)\n",
    "\n",
    "    if jumlah_mahasiswa == 0:\n",
    "        return 0\n",
    "    else:\n",
    "        return total_nilai / jumlah_mahasiswa\n",
    "\n",
    "# Fungsi untuk menampilkan daftar nilai tertinggi dan terendah\n",
    "def daftar_nilai_tertinggi_terendah():\n",
    "    if not data_mahasiswa:\n",
    "        print(\"Tidak ada data mahasiswa.\")\n",
    "        return\n",
    "\n",
    "    nilai_tertinggi = max(max(nilai) for nilai in data_mahasiswa.values())\n",
    "    nilai_terendah = min(min(nilai) for nilai in data_mahasiswa.values())\n",
    "\n",
    "    print(f\"Nilai tertinggi: {nilai_tertinggi}\")\n",
    "    print(f\"Nilai terendah: {nilai_terendah}\")\n",
    "\n",
    "# Program utama\n",
    "while True:\n",
    "    print(\"\\nManajemen Penilaian Mahasiswa\")\n",
    "    print(\"1. Tambah Nilai\")\n",
    "    print(\"2. Hitung Rata-rata\")\n",
    "    print(\"3. Daftar Nilai Tertinggi dan Terendah\")\n",
    "    print(\"4. Keluar\")\n",
    "\n",
    "    pilihan = input(\"Pilih opsi (1/2/3/4): \")\n",
    "\n",
    "    if pilihan == '1':\n",
    "        tambah_nilai()\n",
    "    elif pilihan == '2':\n",
    "        rata_rata = hitung_rata_rata()\n",
    "        print(f\"Rata-rata nilai seluruh mahasiswa: {rata_rata:.2f}\")\n",
    "    elif pilihan == '3':\n",
    "        daftar_nilai_tertinggi_terendah()\n",
    "    elif pilihan == '4':\n",
    "        break\n",
    "    else:\n",
    "        print(\"Pilihan tidak valid. Silakan coba lagi.\")\n",
    "\n"
   ]
  }
 ],
 "metadata": {
  "kernelspec": {
   "display_name": "Python 3",
   "language": "python",
   "name": "python3"
  },
  "language_info": {
   "codemirror_mode": {
    "name": "ipython",
    "version": 3
   },
   "file_extension": ".py",
   "mimetype": "text/x-python",
   "name": "python",
   "nbconvert_exporter": "python",
   "pygments_lexer": "ipython3",
   "version": "3.8.2"
  }
 },
 "nbformat": 4,
 "nbformat_minor": 2
}
