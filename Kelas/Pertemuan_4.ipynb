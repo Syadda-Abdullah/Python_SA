{
 "cells": [
  {
   "cell_type": "markdown",
   "metadata": {},
   "source": [
    "**Program Menghitung Gaji Karyawan**"
   ]
  },
  {
   "cell_type": "code",
   "execution_count": 6,
   "metadata": {},
   "outputs": [
    {
     "name": "stdout",
     "output_type": "stream",
     "text": [
      "Total Gaji Karyawan dengan Indeks Ganjil: 15900000\n",
      "Rata-rata Gaji Karyawan memenuhi atau melebihi UMR Bandung.\n",
      "Total Gaji Karyawan dengan Kenaikan Gaji Tahunan: 45350000\n"
     ]
    }
   ],
   "source": [
    "# Daftar karyawan dan masa kerja\n",
    "karyawan = [\"Dani\", \"Duki\", \"Duke\", \"Deni\", \"Dena\"]\n",
    "masa_kerja = [2, 1, 1, 5, 6]\n",
    "\n",
    "# Daftar gaji karyawan\n",
    "gaji = [4200000, 4800000, 5300000, 5900000, 6400000]\n",
    "\n",
    "# Fungsi untuk menghitung total gaji karyawan dengan indeks ganjil\n",
    "def hitung_total_gaji_ganjil():\n",
    "    total_gaji_ganjil = sum(gaji[i] for i in range(len(karyawan)) if i % 2 == 0)\n",
    "    return total_gaji_ganjil\n",
    "\n",
    "# Fungsi untuk menghitung rata-rata gaji\n",
    "def hitung_rata_rata_gaji():\n",
    "    rata_rata_gaji = sum(gaji) / len(karyawan)\n",
    "    return rata_rata_gaji\n",
    "\n",
    "# Fungsi untuk menghitung total gaji dengan kenaikan gaji tahunan\n",
    "def hitung_total_gaji_tahunan():\n",
    "    kenaikan_gaji_tahunan = 1250000\n",
    "    total_gaji_tahunan = sum(gaji) + (kenaikan_gaji_tahunan * sum(masa_kerja))\n",
    "    return total_gaji_tahunan\n",
    "\n",
    "# Cek apakah rata-rata gaji memenuhi UMR Bandung\n",
    "def cek_umr():\n",
    "    umr_bandung = 5000000\n",
    "    rata_rata = hitung_rata_rata_gaji()\n",
    "    if rata_rata < umr_bandung:\n",
    "        return \"tidak memenuhi\"\n",
    "    else:\n",
    "        return \"memenuhi atau melebihi\"\n",
    "\n",
    "# Main program\n",
    "total_gaji_ganjil = hitung_total_gaji_ganjil()\n",
    "total_gaji_tahunan = hitung_total_gaji_tahunan()\n",
    "status_umr = cek_umr()\n",
    "\n",
    "print(\"Total Gaji Karyawan dengan Indeks Ganjil:\", total_gaji_ganjil)\n",
    "print(f\"Rata-rata Gaji Karyawan {cek_umr()} UMR Bandung.\")\n",
    "print(\"Total Gaji Karyawan dengan Kenaikan Gaji Tahunan:\", total_gaji_tahunan)\n"
   ]
  }
 ],
 "metadata": {
  "kernelspec": {
   "display_name": "Python 3",
   "language": "python",
   "name": "python3"
  },
  "language_info": {
   "codemirror_mode": {
    "name": "ipython",
    "version": 3
   },
   "file_extension": ".py",
   "mimetype": "text/x-python",
   "name": "python",
   "nbconvert_exporter": "python",
   "pygments_lexer": "ipython3",
   "version": "3.8.2"
  }
 },
 "nbformat": 4,
 "nbformat_minor": 2
}
