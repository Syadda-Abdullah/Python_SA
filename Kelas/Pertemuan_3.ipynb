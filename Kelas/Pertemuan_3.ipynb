{
 "cells": [
  {
   "cell_type": "markdown",
   "metadata": {},
   "source": [
    "**Input**"
   ]
  },
  {
   "cell_type": "code",
   "execution_count": 1,
   "metadata": {},
   "outputs": [
    {
     "name": "stdout",
     "output_type": "stream",
     "text": [
      "nama saya Syadda dan umur saya 19\n"
     ]
    }
   ],
   "source": [
    "# Latihan 1 (Input)\n",
    "\n",
    "umur = input(\"masukan umur :\")\n",
    "umur = int(umur)\n",
    "\n",
    "nama = input(\"masukan nama :\")\n",
    "\n",
    "print(\"nama saya\", nama, \"dan umur saya\", umur)"
   ]
  },
  {
   "cell_type": "markdown",
   "metadata": {},
   "source": [
    "**Format**"
   ]
  },
  {
   "cell_type": "code",
   "execution_count": 2,
   "metadata": {},
   "outputs": [
    {
     "name": "stdout",
     "output_type": "stream",
     "text": [
      "Nama saya Syadda dan umur saya 19\n"
     ]
    }
   ],
   "source": [
    "# Latihan 2 (Menggunakan Format)\n",
    "\n",
    "umur = input(\"Masukkan umur: \")\n",
    "umur = int(umur)\n",
    "\n",
    "nama = input(\"Masukkan nama: \")\n",
    "\n",
    "print(\"Nama saya {0} dan umur saya {1}\".format(nama, umur))"
   ]
  },
  {
   "cell_type": "markdown",
   "metadata": {},
   "source": [
    "**Float**"
   ]
  },
  {
   "cell_type": "code",
   "execution_count": 3,
   "metadata": {},
   "outputs": [
    {
     "name": "stdout",
     "output_type": "stream",
     "text": [
      "Nama saya Syadda dan umur saya 19 kemudian tinggi saya 180.0 cm\n"
     ]
    }
   ],
   "source": [
    "#Latihan 3 (Menambahkan tinggi (float))\n",
    "\n",
    "umur = input(\"Masukkan umur: \")\n",
    "umur = int(umur)\n",
    "\n",
    "nama = input(\"Masukkan nama: \")\n",
    "\n",
    "tinggi = float(input(\"Masukan Tinggi badan :\"))\n",
    "\n",
    "print(\"Nama saya {0} dan umur saya {1} kemudian tinggi saya {2} cm\".format(nama, umur, tinggi))"
   ]
  },
  {
   "cell_type": "markdown",
   "metadata": {},
   "source": [
    "**Format (%)**"
   ]
  },
  {
   "cell_type": "code",
   "execution_count": 4,
   "metadata": {},
   "outputs": [
    {
     "name": "stdout",
     "output_type": "stream",
     "text": [
      "Nama saya Syadda dan umur saya 19 kemudian tinggi saya 180.000000 cm\n"
     ]
    }
   ],
   "source": [
    "#Latihan 4 (Format %)\n",
    "\n",
    "umur = input(\"Masukkan umur: \")\n",
    "umur = int(umur)\n",
    "\n",
    "nama = input(\"Masukkan nama: \")\n",
    "\n",
    "tinggi = float(input(\"Masukan Tinggi badan :\"))\n",
    "\n",
    "print(\"Nama saya %s dan umur saya %i kemudian tinggi saya %f cm\" %(nama,umur,tinggi))"
   ]
  },
  {
   "cell_type": "markdown",
   "metadata": {},
   "source": [
    "**Format (f)**"
   ]
  },
  {
   "cell_type": "code",
   "execution_count": 5,
   "metadata": {},
   "outputs": [
    {
     "name": "stdout",
     "output_type": "stream",
     "text": [
      "Nama saya Syadda dan umur saya 19 kemudian tinggi saya 180.0 cm\n"
     ]
    }
   ],
   "source": [
    "#Latihan 5 (Format f)\n",
    "\n",
    "umur = input(\"Masukkan umur: \")\n",
    "umur = int(umur)\n",
    "\n",
    "nama = input(\"Masukkan nama: \")\n",
    "\n",
    "tinggi = float(input(\"Masukan Tinggi badan :\"))\n",
    "\n",
    "print(f\"Nama saya {nama} dan umur saya {umur} kemudian tinggi saya {tinggi} cm\")"
   ]
  },
  {
   "cell_type": "markdown",
   "metadata": {},
   "source": [
    "**Parameter End**"
   ]
  },
  {
   "cell_type": "code",
   "execution_count": 6,
   "metadata": {},
   "outputs": [
    {
     "name": "stdout",
     "output_type": "stream",
     "text": [
      "nama saya Syaddaumur saya 19tb saya 180.0"
     ]
    }
   ],
   "source": [
    "#Latihan 6 (Parameter end)\n",
    "\n",
    "umur = input(\"Masukkan umur: \")\n",
    "umur = int(umur)\n",
    "\n",
    "nama = input(\"Masukkan nama: \")\n",
    "\n",
    "tinggi = float(input(\"Masukan Tinggi badan :\"))\n",
    "\n",
    "print(f\"nama saya {nama}\",end='')\n",
    "print(f\"umur saya {umur}\",end='')\n",
    "print(f\"tb saya {tinggi}\",end='')"
   ]
  },
  {
   "cell_type": "markdown",
   "metadata": {},
   "source": [
    "**Operasi Bilangan**"
   ]
  },
  {
   "cell_type": "code",
   "execution_count": 7,
   "metadata": {},
   "outputs": [
    {
     "name": "stdout",
     "output_type": "stream",
     "text": [
      "Pertambahan : 4 + 3 = 7\n",
      "Pengurangan : 4 - 3 = 1\n",
      "Perkalian   : 4 * 3 = 12\n",
      "Pembagian   : 4 / 3 = 1.3333333333333333\n",
      "Modulus     : 4 % 3 = 1\n",
      "Perpangkatan: 4 ** 3 = 64\n"
     ]
    }
   ],
   "source": [
    "#Latihan 7 (Operasi Bilangan)\n",
    "\n",
    "a = int(input(\"Masukan Bilangan pertama :\"))\n",
    "b = int(input(\"Masukan Bilangan kedua :\"))\n",
    "\n",
    "print(f\"Pertambahan : {a} + {b} = {a+b}\")\n",
    "print(f\"Pengurangan : {a} - {b} = {a-b}\")\n",
    "print(f\"Perkalian   : {a} * {b} = {a*b}\")\n",
    "print(f\"Pembagian   : {a} / {b} = {a/b}\")\n",
    "print(f\"Modulus     : {a} % {b} = {a%b}\")\n",
    "print(f\"Perpangkatan: {a} ** {b} = {a**b}\")"
   ]
  },
  {
   "cell_type": "markdown",
   "metadata": {},
   "source": [
    "**Operasi Pembanding**"
   ]
  },
  {
   "cell_type": "code",
   "execution_count": 8,
   "metadata": {},
   "outputs": [
    {
     "name": "stdout",
     "output_type": "stream",
     "text": [
      "4 Lebih Dari 3\n"
     ]
    }
   ],
   "source": [
    "#Latihan 8 (Operasi Pembanding)\n",
    "\n",
    "a = int(input(\"Masukan Bilangan pertama :\"))\n",
    "b = int(input(\"Masukan Bilangan kedua :\"))\n",
    "\n",
    "if (a < b):\n",
    "  print(f\"{a} Kurang Dari {b}\")\n",
    "if (a > b):\n",
    "  print(f\"{a} Lebih Dari {b}\")\n",
    "if (a == b):\n",
    "  print(f\"{a} Sama Dengan {b}\")"
   ]
  },
  {
   "cell_type": "markdown",
   "metadata": {},
   "source": [
    "**Operator Logika**"
   ]
  },
  {
   "cell_type": "code",
   "execution_count": 9,
   "metadata": {},
   "outputs": [
    {
     "name": "stdout",
     "output_type": "stream",
     "text": [
      "3 and 4 = 0\n"
     ]
    }
   ],
   "source": [
    "a = int(input(\"Masukan Bilangan pertama: \"))\n",
    "b = int(input(\"Masukan Bilangan kedua: \"))\n",
    "c = str(input(\"Pilih Operator Logika (and/or/xor): \"))\n",
    "\n",
    "if c == 'and':\n",
    "    print(f\"{a} and {b} = {a & b}\")\n",
    "elif c == 'or':\n",
    "    print(f\"{a} or {b} = {a | b}\")\n",
    "elif c == 'xor':\n",
    "    print(f\"{a} xor {b} = {a ^ b}\")\n",
    "else:\n",
    "    print(\"Operator Logika yang dimasukkan tidak valid.\")"
   ]
  },
  {
   "cell_type": "markdown",
   "metadata": {},
   "source": [
    "**Progam Mengatur Fokus Mikroskop**"
   ]
  },
  {
   "cell_type": "code",
   "execution_count": 17,
   "metadata": {},
   "outputs": [
    {
     "name": "stdout",
     "output_type": "stream",
     "text": [
      "Nilai Ketajaman Awal: 59.01\n",
      "Putar ke kiri\n",
      "Ambil Gambar\n",
      "Hasil Foto: Night\n"
     ]
    }
   ],
   "source": [
    "import random\n",
    "import time\n",
    "\n",
    "# Inisialisasi nilai awal\n",
    "nilai_ketajaman_sebelumnya = random.uniform(0, 100)  # Nilai ketajaman awal secara acak\n",
    "batas_fokus_min = 0  # Batas fokus minimum\n",
    "batas_fokus_max = 100  # Batas fokus maksimum\n",
    "toleransi = 5  # Toleransi perubahan nilai ketajaman yang dianggap sama\n",
    "gambar_diambil = False  # Inisialisasi variabel untuk mengontrol pengambilan gambar\n",
    "\n",
    "# Tampilkan nilai ketajaman awal\n",
    "print(f\"Nilai Ketajaman Awal: {nilai_ketajaman_sebelumnya:.2f}\")\n",
    "\n",
    "while not gambar_diambil:\n",
    "    # Simulasi pengukuran nilai ketajaman dari hasil kamera\n",
    "    nilai_ketajaman = random.uniform(0, 100)  # Nilai ketajaman saat ini secara acak\n",
    "\n",
    "    # Bandingkan dengan nilai sebelumnya\n",
    "    perubahan_ketajaman = nilai_ketajaman - nilai_ketajaman_sebelumnya\n",
    "\n",
    "    if perubahan_ketajaman > toleransi:\n",
    "        print(\"Putar ke kanan\")\n",
    "        # Lakukan operasi untuk memutar fokus ke kanan\n",
    "        nilai_ketajaman_sebelumnya += 1\n",
    "\n",
    "    elif perubahan_ketajaman < -toleransi:\n",
    "        print(\"Putar ke kiri\")\n",
    "        # Lakukan operasi untuk memutar fokus ke kiri\n",
    "        nilai_ketajaman_sebelumnya -= 1\n",
    "\n",
    "    else:\n",
    "        print(\"Ambil Gambar\")\n",
    "        # Lakukan operasi untuk mengambil gambar\n",
    "        hasil_foto = random.choice([\"Landscape\", \"Potrait\", \"Macro\", \"Night\"])\n",
    "        print(f\"Hasil Foto: {hasil_foto}\")\n",
    "        gambar_diambil = True  # Setel variabel gambar_diambil menjadi True\n",
    "\n",
    "    # Memastikan batasan fokus minimum dan maksimum\n",
    "    nilai_ketajaman_sebelumnya = max(min(nilai_ketajaman_sebelumnya, batas_fokus_max), batas_fokus_min)\n",
    "\n",
    "    # Tunggu sejenak sebelum mengukur nilai ketajaman berikutnya\n",
    "    time.sleep(1)  # Anda dapat menyesuaikan interval waktu sesuai kebutuhan\n"
   ]
  }
 ],
 "metadata": {
  "kernelspec": {
   "display_name": "Python 3",
   "language": "python",
   "name": "python3"
  },
  "language_info": {
   "codemirror_mode": {
    "name": "ipython",
    "version": 3
   },
   "file_extension": ".py",
   "mimetype": "text/x-python",
   "name": "python",
   "nbconvert_exporter": "python",
   "pygments_lexer": "ipython3",
   "version": "3.8.2"
  }
 },
 "nbformat": 4,
 "nbformat_minor": 2
}
