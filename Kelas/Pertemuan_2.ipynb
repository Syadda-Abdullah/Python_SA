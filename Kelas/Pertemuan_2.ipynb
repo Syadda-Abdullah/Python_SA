{
 "cells": [
  {
   "cell_type": "markdown",
   "metadata": {},
   "source": [
    "**Program Pengawasan Gadget Pada Anak**"
   ]
  },
  {
   "cell_type": "code",
   "execution_count": 1,
   "metadata": {},
   "outputs": [
    {
     "name": "stdout",
     "output_type": "stream",
     "text": [
      "Selalu Awasi Kegiatan Anak Anda\n",
      "Masukkan Umur= \n",
      "Durasi Pemakaian Gadget 1 jam Sehari\n",
      "Pastikan anak-anak anda memiliki waktu untuk aktifitas fisik dan interaksi sosial\n",
      "Selalu Awasi Kegiatan Anak Anda\n",
      "Masukkan Umur= \n",
      "Batas Durasi Menggunakan Gadget < 1 jam Sehari\n",
      "Pastikan anak-anak anda memiliki waktu untuk aktifitas fisik dan interaksi sosial\n"
     ]
    }
   ],
   "source": [
    "while True:\n",
    "    print(\"Selalu Awasi Kegiatan Anak Anda\")\n",
    "    print(\"Masukkan Umur= \")\n",
    "    umur = int(input())\n",
    "    if umur < 1:\n",
    "        print(\"Dilarang memakai Gadget\")\n",
    "    else:\n",
    "        if umur >= 1 and umur <= 2:\n",
    "            print(\"Batas Durasi Menggunakan Gadget < 1 jam Sehari\")\n",
    "        else:\n",
    "            if umur <= 4:\n",
    "                print(\"Durasi Pemakaian Gadget 1 jam Sehari\")\n",
    "            else:\n",
    "                print(\"Durasi Pemakaian Gadget 1 hingga 2 Jam Sehari\")\n",
    "    print(\"Pastikan anak-anak anda memiliki waktu untuk aktifitas fisik dan interaksi sosial\")\n",
    "    # Mengonfirmasi apakah pengguna ingin melakukan pengecekan kembali\n",
    "    jawaban = input(\"\\nApakah Anda ingin melakukan pengecekan kembali? (ya/tidak): \")\n",
    "    if jawaban.lower() != \"ya\":\n",
    "        break"
   ]
  }
 ],
 "metadata": {
  "kernelspec": {
   "display_name": "Python 3",
   "language": "python",
   "name": "python3"
  },
  "language_info": {
   "codemirror_mode": {
    "name": "ipython",
    "version": 3
   },
   "file_extension": ".py",
   "mimetype": "text/x-python",
   "name": "python",
   "nbconvert_exporter": "python",
   "pygments_lexer": "ipython3",
   "version": "3.8.2"
  }
 },
 "nbformat": 4,
 "nbformat_minor": 2
}
