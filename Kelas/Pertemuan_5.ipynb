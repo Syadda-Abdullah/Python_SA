{
 "cells": [
  {
   "cell_type": "markdown",
   "metadata": {},
   "source": [
    "**Calculator**"
   ]
  },
  {
   "cell_type": "code",
   "execution_count": 3,
   "metadata": {},
   "outputs": [
    {
     "name": "stdout",
     "output_type": "stream",
     "text": [
      "Hasil perhitungan: 4.0 * 5.0 = 20.0\n"
     ]
    }
   ],
   "source": [
    "def kalkulator(operator, input1, input2):\n",
    "    fungsi = {\n",
    "        \"+\": input1 + input2,\n",
    "        \"-\": input1 - input2,\n",
    "        \"*\": input1 * input2,\n",
    "        \"/\": input1 / input2\n",
    "    }\n",
    "    return fungsi.get(operator)\n",
    "\n",
    "input1 = float(input(\"Masukkan angka pertama: \"))\n",
    "input2 = float(input(\"Masukkan angka kedua: \"))\n",
    "operator = input(\"Masukkan operator (+, -, *, /): \")\n",
    "\n",
    "hasil = kalkulator(operator, input1, input2)\n",
    "if hasil is not None:\n",
    "    print(f\"Hasil perhitungan: {input1} {operator} {input2} = {hasil}\")\n",
    "else:\n",
    "    print(\"Operator tidak valid\")"
   ]
  },
  {
   "cell_type": "markdown",
   "metadata": {},
   "source": [
    "**Pembagian 10**"
   ]
  },
  {
   "cell_type": "code",
   "execution_count": 4,
   "metadata": {},
   "outputs": [
    {
     "name": "stdout",
     "output_type": "stream",
     "text": [
      "Hasil pembagian 10 / 20 = 0.5\n"
     ]
    }
   ],
   "source": [
    "try:\n",
    "    angka = int(input(\"Masukkan sebuah angka bulat: \"))\n",
    "    hasil = 10 / angka\n",
    "\n",
    "    print(f\"Hasil pembagian 10 / {angka} = {hasil}\")\n",
    "\n",
    "except ZeroDivisionError:\n",
    "    print(\"Kesalahan: Tidak bisa membagi oleh nol\")\n",
    "\n",
    "except ValueError:\n",
    "    print(\"Kesalahan: Masukkan harus berupa angka bulat\")\n",
    "\n",
    "except Exception as e:\n",
    "    print(f\"Terjadi kesalahan: {e}\")\n"
   ]
  },
  {
   "cell_type": "markdown",
   "metadata": {},
   "source": [
    "**String**"
   ]
  },
  {
   "cell_type": "code",
   "execution_count": 5,
   "metadata": {},
   "outputs": [
    {
     "name": "stdout",
     "output_type": "stream",
     "text": [
      "h\n",
      "e\n",
      "l\n",
      "l\n",
      "o\n",
      ",\n",
      " \n",
      "w\n",
      "o\n",
      "r\n",
      "l\n",
      "d\n",
      "!\n"
     ]
    }
   ],
   "source": [
    "my_string = 'hello, world!'\n",
    "for char in my_string:\n",
    "    print(char)"
   ]
  },
  {
   "cell_type": "markdown",
   "metadata": {},
   "source": [
    "**Integer**"
   ]
  },
  {
   "cell_type": "code",
   "execution_count": 6,
   "metadata": {},
   "outputs": [
    {
     "name": "stdout",
     "output_type": "stream",
     "text": [
      "3\n",
      "3\n",
      "3\n",
      "3\n",
      "3\n"
     ]
    }
   ],
   "source": [
    "angka = [1, 2, 3, 4, 5]\n",
    "\n",
    "for a in angka:\n",
    "  print(angka[2])"
   ]
  }
 ],
 "metadata": {
  "kernelspec": {
   "display_name": "Python 3",
   "language": "python",
   "name": "python3"
  },
  "language_info": {
   "codemirror_mode": {
    "name": "ipython",
    "version": 3
   },
   "file_extension": ".py",
   "mimetype": "text/x-python",
   "name": "python",
   "nbconvert_exporter": "python",
   "pygments_lexer": "ipython3",
   "version": "3.8.2"
  }
 },
 "nbformat": 4,
 "nbformat_minor": 2
}
