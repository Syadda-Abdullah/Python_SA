{
 "cells": [
  {
   "cell_type": "markdown",
   "metadata": {},
   "source": [
    "**Function Data Frame (Loop For)**"
   ]
  },
  {
   "cell_type": "code",
   "execution_count": 5,
   "metadata": {},
   "outputs": [
    {
     "name": "stdout",
     "output_type": "stream",
     "text": [
      "       Nama  Umur     Gaji  Gaji + Bonus\n",
      "0    Syadda    19  4500000           0.0\n",
      "1  Abdullah    36  5200000     5460000.0\n",
      "2    Ahadan    20  3200000           0.0\n",
      "3      Rafa    30  4000000           0.0\n",
      "4     Paris    22  3600000           0.0\n",
      "5    Naufal    33  4200000     4410000.0\n",
      "Karyawan yang Menerima Bonus: Abdullah, Naufal\n",
      "Karyawan yang Tidak Menerima Bonus: Paris, Rafa, Syadda, Ahadan\n"
     ]
    }
   ],
   "source": [
    "import pandas as pd\n",
    "#DataFrame\n",
    "data = {'Nama': ['Syadda','Abdullah','Ahadan','Rafa','Paris','Naufal'],\n",
    "'Umur': [19,36,20,30,22,33],\n",
    "'Gaji': [4500000, 5200000, 3200000, 4000000, 3600000, 4200000]}\n",
    "df = pd.DataFrame(data)\n",
    "\n",
    "# Soal No 1 (For Loop)\n",
    "bonus_karyawan = []\n",
    "for index, row in df.iterrows():\n",
    "    if row['Umur'] > 30:\n",
    "        bonus = 0.05 * df.at[index, 'Gaji']\n",
    "        df.at[index, 'Gaji + Bonus'] = bonus + row['Gaji']\n",
    "        bonus_karyawan.append(row['Nama'])\n",
    "    else:\n",
    "        df.at[index, 'Gaji + Bonus'] = 0\n",
    "print(df)\n",
    "\n",
    "# jumlah gaji sebelum bonus\n",
    "sebelum = df['Gaji'].sum() - bonus\n",
    "# jumlah gaji setelah bonus\n",
    "sesudah = df['Gaji'].sum()\n",
    "\n",
    "print(f\"Karyawan yang Menerima Bonus: {', '.join(bonus_karyawan)}\")\n",
    "print(f\"Karyawan yang Tidak Menerima Bonus: {', '.join(set(df['Nama']) - set(bonus_karyawan))}\")\n",
    "\n"
   ]
  },
  {
   "cell_type": "markdown",
   "metadata": {},
   "source": [
    "**Function Data Frame (Lambda)**"
   ]
  },
  {
   "cell_type": "code",
   "execution_count": 10,
   "metadata": {},
   "outputs": [
    {
     "name": "stdout",
     "output_type": "stream",
     "text": [
      "       Nama  Umur     Gaji  Gaji + Bonus\n",
      "0    Syadda    19  4500000     4500000.0\n",
      "1  Abdullah    36  5200000      260000.0\n",
      "2    Ahadan    20  3200000     3200000.0\n",
      "3      Rafa    30  4000000     4000000.0\n",
      "4     Paris    22  3600000     3600000.0\n",
      "5    Naufal    33  4200000      210000.0\n",
      "Karyawan yang Menerima Bonus: Abdullah, Naufal\n",
      "Karyawan yang Tidak Menerima Bonus: Paris, Rafa, Syadda, Ahadan\n"
     ]
    }
   ],
   "source": [
    "import pandas as pd\n",
    "#DataFrame\n",
    "data = {'Nama': ['Syadda','Abdullah','Ahadan','Rafa','Paris','Naufal'],\n",
    "'Umur': [19,36,20,30,22,33],\n",
    "'Gaji': [4500000, 5200000, 3200000, 4000000, 3600000, 4200000]}\n",
    "df = pd.DataFrame(data)\n",
    "\n",
    "# Soal No 2 (Lambda)\n",
    "df['Gaji + Bonus'] = df.apply(lambda row: row['Gaji'] * 0.05 if row['Umur'] > 30 else row['Gaji'], axis=1)\n",
    "print(df)\n",
    "\n",
    "# jumlah gaji sebelum bonus\n",
    "sebelum = df['Gaji'].sum() - bonus\n",
    "# jumlah gaji setelah bonus\n",
    "sesudah = df['Gaji'].sum()\n",
    "\n",
    "print(f\"Karyawan yang Menerima Bonus: {', '.join(bonus_karyawan)}\")\n",
    "print(f\"Karyawan yang Tidak Menerima Bonus: {', '.join(set(df['Nama']) - set(bonus_karyawan))}\")"
   ]
  }
 ],
 "metadata": {
  "kernelspec": {
   "display_name": "Python 3",
   "language": "python",
   "name": "python3"
  },
  "language_info": {
   "codemirror_mode": {
    "name": "ipython",
    "version": 3
   },
   "file_extension": ".py",
   "mimetype": "text/x-python",
   "name": "python",
   "nbconvert_exporter": "python",
   "pygments_lexer": "ipython3",
   "version": "3.8.2"
  }
 },
 "nbformat": 4,
 "nbformat_minor": 2
}
