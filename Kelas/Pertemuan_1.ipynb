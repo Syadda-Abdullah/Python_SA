{
 "cells": [
  {
   "cell_type": "markdown",
   "metadata": {},
   "source": [
    "**Input Biodata Mahasiswa**"
   ]
  },
  {
   "cell_type": "code",
   "execution_count": 1,
   "metadata": {},
   "outputs": [
    {
     "name": "stdout",
     "output_type": "stream",
     "text": [
      "\n",
      "BIODATA MAHASISWA\n",
      "NRP: 152022037\n",
      "Nama: Syadda Abdullah\n",
      "Tempat Tanggal Lahir: 14 Agustus 2004\n",
      "Jenis Kelamin: Pria\n",
      "Alamat: Gg.Cikondang 3 No 17\n",
      "Agama: Islam\n",
      "Status Pernikahan: Belum Menikah\n"
     ]
    }
   ],
   "source": [
    "# INPUT\n",
    "nrp = input(\"Masukkan NRP = \")\n",
    "nama = input(\"Masukkan Nama = \")\n",
    "tgl_lahir = input(\"Masukkan Tanggal Lahir = \")\n",
    "gender = input(\"Masukkan Jenis Kelamin = \")\n",
    "alamat = input(\"Masukkan Alamat = \")\n",
    "agama = input(\"Masukkan Agama = \")\n",
    "\n",
    "# KONDISI\n",
    "status = input(\"Apakah Anda sudah menikah? (yes/no): \")\n",
    "if status == \"yes\":\n",
    "    status = \"Sudah Menikah\"\n",
    "elif status == \"no\":\n",
    "    status = \"Belum Menikah\"\n",
    "else:\n",
    "    status = \"Anda salah menginput\"\n",
    "\n",
    "# PRINT\n",
    "print(\"\\nBIODATA MAHASISWA\")\n",
    "print(\"NRP:\", nrp)\n",
    "print(\"Nama:\", nama)\n",
    "print(\"Tempat Tanggal Lahir:\", tgl_lahir)\n",
    "print(\"Jenis Kelamin:\", gender)\n",
    "print(\"Alamat:\", alamat)\n",
    "print(\"Agama:\", agama)\n",
    "print(\"Status Pernikahan:\", status)\n"
   ]
  }
 ],
 "metadata": {
  "kernelspec": {
   "display_name": "Python 3",
   "language": "python",
   "name": "python3"
  },
  "language_info": {
   "codemirror_mode": {
    "name": "ipython",
    "version": 3
   },
   "file_extension": ".py",
   "mimetype": "text/x-python",
   "name": "python",
   "nbconvert_exporter": "python",
   "pygments_lexer": "ipython3",
   "version": "3.8.2"
  }
 },
 "nbformat": 4,
 "nbformat_minor": 2
}
