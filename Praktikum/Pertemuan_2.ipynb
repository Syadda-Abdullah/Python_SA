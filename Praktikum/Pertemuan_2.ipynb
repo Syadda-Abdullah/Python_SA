{
 "cells": [
  {
   "cell_type": "markdown",
   "metadata": {},
   "source": [
    "**Menentukan Kelipatan Ketiga**"
   ]
  },
  {
   "cell_type": "code",
   "execution_count": 1,
   "metadata": {},
   "outputs": [
    {
     "name": "stdout",
     "output_type": "stream",
     "text": [
      "3 adalah kelipatan 3.\n"
     ]
    }
   ],
   "source": [
    "# Input\n",
    "angka = int(input(\"Masukkan sebuah angka: \"))\n",
    "\n",
    "# Pemeriksaan Kelipatan 3\n",
    "if angka % 3 == 0:\n",
    "    print(f\"{angka} adalah kelipatan 3.\")\n",
    "else:\n",
    "    print(f\"{angka} bukan kelipatan 3.\")"
   ]
  },
  {
   "cell_type": "markdown",
   "metadata": {},
   "source": [
    "**Menentukan Perulangan For Loop**"
   ]
  },
  {
   "cell_type": "code",
   "execution_count": 2,
   "metadata": {},
   "outputs": [
    {
     "name": "stdout",
     "output_type": "stream",
     "text": [
      "No 0. Syadda\n",
      "No 1. Syadda\n",
      "No 2. Syadda\n",
      "No 3. Syadda\n",
      "No 4. Syadda\n"
     ]
    }
   ],
   "source": [
    "# Input\n",
    "nama = input(\"Masukkan Nama: \")\n",
    "total_perulangan = int(input(\"Total Perulangan: \"))\n",
    "\n",
    "# Perulangan\n",
    "for i in range(total_perulangan):\n",
    "    print(f\"No {i}. {nama}\")"
   ]
  },
  {
   "cell_type": "markdown",
   "metadata": {},
   "source": [
    "**Nilai Mahasiswa List**"
   ]
  },
  {
   "cell_type": "code",
   "execution_count": 3,
   "metadata": {},
   "outputs": [
    {
     "name": "stdout",
     "output_type": "stream",
     "text": [
      "Mahasiswa Ke 1\n",
      "Nama: Dapo\n",
      "Jumlah Matkul: 5\n",
      "Nilai Matkul:\n",
      "  Nilai Matkul ke-1: 53.32\n",
      "  Nilai Matkul ke-2: 17.97\n",
      "  Nilai Matkul ke-3: 98.43\n",
      "  Nilai Matkul ke-4: 3.15\n",
      "  Nilai Matkul ke-5: 50.23\n",
      "Mahasiswa Ke 2\n",
      "Nama: Ichlasul\n",
      "Jumlah Matkul: 5\n",
      "Nilai Matkul:\n",
      "  Nilai Matkul ke-1: 72.70\n",
      "  Nilai Matkul ke-2: 32.17\n",
      "  Nilai Matkul ke-3: 74.37\n",
      "  Nilai Matkul ke-4: 38.04\n",
      "  Nilai Matkul ke-5: 61.00\n",
      "Mahasiswa Ke 3\n",
      "Nama: Naufal\n",
      "Jumlah Matkul: 5\n",
      "Nilai Matkul:\n",
      "  Nilai Matkul ke-1: 37.47\n",
      "  Nilai Matkul ke-2: 14.81\n",
      "  Nilai Matkul ke-3: 53.09\n",
      "  Nilai Matkul ke-4: 42.91\n",
      "  Nilai Matkul ke-5: 95.24\n"
     ]
    }
   ],
   "source": [
    "import random\n",
    "\n",
    "# Daftar Mahasiswa\n",
    "nama_mahasiswa = [\"Syadda\", \"Ahadan\", \"Ichlasul\", \"Dany\", \"Dani\", \"Rafa\", \"Naufal\", \"Dapo\", \"Paris\"]\n",
    "\n",
    "# Input\n",
    "banyak_mahasiswa = int(input(\"Masukkan Banyak Mahasiswa: \"))\n",
    "\n",
    "# List Untuk menyimpan mahasiswa\n",
    "mahasiswa = []\n",
    "\n",
    "# Perulangan Random\n",
    "for i in range(banyak_mahasiswa):\n",
    "    nama = random.choice(nama_mahasiswa)  # Random Memilih nama Mahasiswa\n",
    "    jumlah_matkul = random.randint(1, 5)  # Random Matakuliah 1 sampai 5\n",
    "    nilai_matkul = [random.uniform(0, 100) for _ in range(jumlah_matkul)]  # Random Nilai range 0 sampai 100\n",
    "\n",
    "    mahasiswa.append({\n",
    "        \"Nama\": nama,\n",
    "        \"Jumlah Matkul\": jumlah_matkul,\n",
    "        \"Nilai Matkul\": nilai_matkul\n",
    "    })\n",
    "\n",
    "# Output\n",
    "for i, data in enumerate(mahasiswa):\n",
    "    print(f\"Mahasiswa Ke {i + 1}\")\n",
    "    print(f\"Nama: {data['Nama']}\")\n",
    "    print(f\"Jumlah Matkul: {data['Jumlah Matkul']}\")\n",
    "    print(\"Nilai Matkul:\")\n",
    "    for j, nilai in enumerate(data['Nilai Matkul']):\n",
    "        print(f\"  Nilai Matkul ke-{j + 1}: {nilai:.2f}\")"
   ]
  }
 ],
 "metadata": {
  "kernelspec": {
   "display_name": "Python 3",
   "language": "python",
   "name": "python3"
  },
  "language_info": {
   "codemirror_mode": {
    "name": "ipython",
    "version": 3
   },
   "file_extension": ".py",
   "mimetype": "text/x-python",
   "name": "python",
   "nbconvert_exporter": "python",
   "pygments_lexer": "ipython3",
   "version": "3.11.0"
  }
 },
 "nbformat": 4,
 "nbformat_minor": 2
}
