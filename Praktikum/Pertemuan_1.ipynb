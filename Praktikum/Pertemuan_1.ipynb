{
 "cells": [
  {
   "cell_type": "markdown",
   "metadata": {},
   "source": [
    "**Menentukan Angka Ganji/Genap**"
   ]
  },
  {
   "cell_type": "code",
   "execution_count": 1,
   "metadata": {},
   "outputs": [
    {
     "name": "stdout",
     "output_type": "stream",
     "text": [
      "3 adalah angka ganjil.\n"
     ]
    }
   ],
   "source": [
    "# Input\n",
    "angka = int(input(\"Masukkan sebuah angka: \"))\n",
    "\n",
    "# If\n",
    "if angka % 2 == 0:\n",
    "    print(angka, \"adalah angka genap.\")\n",
    "else:\n",
    "    print(angka, \"adalah angka ganjil.\")"
   ]
  },
  {
   "cell_type": "markdown",
   "metadata": {},
   "source": [
    "**Membandingkan Kedua Angka**"
   ]
  },
  {
   "cell_type": "code",
   "execution_count": 2,
   "metadata": {},
   "outputs": [
    {
     "name": "stdout",
     "output_type": "stream",
     "text": [
      "6 Lebih Besar Dari 5\n"
     ]
    }
   ],
   "source": [
    "# Input\n",
    "a = int(input(\"Masukan sebuah angka : \"))\n",
    "b = int(input(\"Masukan sebuah angka : \"))\n",
    "\n",
    "# If\n",
    "if a > b:\n",
    "  print (a, \"Lebih Besar Dari\", b)\n",
    "elif a == b:\n",
    "  print (\"Kedua nilai sama\")\n",
    "else :\n",
    "  print (b,\"Lebih Besar Dari\", a)\n"
   ]
  },
  {
   "cell_type": "markdown",
   "metadata": {},
   "source": [
    "**Looping For**"
   ]
  },
  {
   "cell_type": "code",
   "execution_count": 3,
   "metadata": {},
   "outputs": [
    {
     "name": "stdout",
     "output_type": "stream",
     "text": [
      "Anak ayam turun 10 mati 1, tinggal 9\n",
      "Anak ayam turun 9 mati 1, tinggal 8\n",
      "Anak ayam turun 8 mati 1, tinggal 7\n",
      "Anak ayam turun 7 mati 1, tinggal 6\n",
      "Anak ayam turun 6 mati 1, tinggal 5\n",
      "Anak ayam turun 5 mati 1, tinggal 4\n",
      "Anak ayam turun 4 mati 1, tinggal 3\n",
      "Anak ayam turun 3 mati 1, tinggal 2\n",
      "Anak ayam turun 2 mati 1, tinggal 1\n",
      "Anak ayam turun 1 mati 1, tinggal induknya\n"
     ]
    }
   ],
   "source": [
    "# Input\n",
    "jumlah_ayam = int(input(\"Masukkan jumlah anak ayam: \"))\n",
    "\n",
    "# Loop\n",
    "for i in range(jumlah_ayam, 1, -1):\n",
    "    print(f\"Anak ayam turun {i} mati 1, tinggal {i - 1}\")\n",
    "\n",
    "print(\"Anak ayam turun 1 mati 1, tinggal induknya\")"
   ]
  },
  {
   "cell_type": "markdown",
   "metadata": {},
   "source": [
    "**Looping While**"
   ]
  },
  {
   "cell_type": "code",
   "execution_count": 4,
   "metadata": {},
   "outputs": [
    {
     "name": "stdout",
     "output_type": "stream",
     "text": [
      "Anak ayam turun 10 mati 1, tinggal 9\n",
      "Anak ayam turun 9 mati 1, tinggal 8\n",
      "Anak ayam turun 8 mati 1, tinggal 7\n",
      "Anak ayam turun 7 mati 1, tinggal 6\n",
      "Anak ayam turun 6 mati 1, tinggal 5\n",
      "Anak ayam turun 5 mati 1, tinggal 4\n",
      "Anak ayam turun 4 mati 1, tinggal 3\n",
      "Anak ayam turun 3 mati 1, tinggal 2\n",
      "Anak ayam turun 2 mati 1, tinggal 1\n",
      "Anak ayam turun 1 mati 1, tinggal induknya\n"
     ]
    }
   ],
   "source": [
    "jumlah_ayam = int(input(\"Masukkan jumlah anak ayam: \"))\n",
    "\n",
    "i = jumlah_ayam\n",
    "while i > 1:\n",
    "    print(f\"Anak ayam turun {i} mati 1, tinggal {i - 1}\")\n",
    "    i -= 1\n",
    "else:\n",
    "    print(\"Anak ayam turun 1 mati 1, tinggal induknya\")"
   ]
  }
 ],
 "metadata": {
  "kernelspec": {
   "display_name": "Python 3",
   "language": "python",
   "name": "python3"
  },
  "language_info": {
   "codemirror_mode": {
    "name": "ipython",
    "version": 3
   },
   "file_extension": ".py",
   "mimetype": "text/x-python",
   "name": "python",
   "nbconvert_exporter": "python",
   "pygments_lexer": "ipython3",
   "version": "3.11.0"
  }
 },
 "nbformat": 4,
 "nbformat_minor": 2
}
