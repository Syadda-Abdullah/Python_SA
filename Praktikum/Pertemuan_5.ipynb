{
 "cells": [
  {
   "cell_type": "markdown",
   "metadata": {},
   "source": [
    "**Menghitung Kebutuhan Kalori**"
   ]
  },
  {
   "cell_type": "code",
   "execution_count": 1,
   "metadata": {},
   "outputs": [
    {
     "name": "stdout",
     "output_type": "stream",
     "text": [
      "Kalkulator Kebutuhan Kalori Harris-Benedict\n",
      "=========================================\n",
      "Kebutuhan kalori harian Anda adalah 1549.20 kalori.\n"
     ]
    }
   ],
   "source": [
    "def hitung_kebutuhan_kalori():\n",
    "    # Input berat badan (kg), tinggi badan (cm), dan umur\n",
    "    bb = float(input(\"Masukkan berat badan (kg): \"))\n",
    "    tb = float(input(\"Masukkan tinggi badan (cm): \"))\n",
    "    u = int(input(\"Masukkan umur: \"))\n",
    "\n",
    "    # Pilih jenis kelamin\n",
    "    jenis_kelamin = input(\"Jenis kelamin (Pria/Wanita): \").lower()\n",
    "\n",
    "    if jenis_kelamin == \"pria\":\n",
    "        # Rumus Harris-Benedict untuk pria\n",
    "        kalori = 66 + (13.7 * bb) + (5 * tb) - (6.8 * u)\n",
    "    elif jenis_kelamin == \"wanita\":\n",
    "        # Rumus Harris-Benedict untuk wanita\n",
    "        kalori = 665 + (9.6 * bb) + (1.8 * tb) - (4.7 * u)\n",
    "    else:\n",
    "        print(\"Jenis kelamin tidak valid. Gunakan 'Pria' atau 'Wanita'.\")\n",
    "        return\n",
    "\n",
    "    # Tampilkan hasil\n",
    "    print(f\"Kebutuhan kalori harian Anda adalah {kalori:.2f} kalori.\")\n",
    "\n",
    "if __name__ == \"__main__\":\n",
    "    print(\"Kalkulator Kebutuhan Kalori Harris-Benedict\")\n",
    "    print(\"=========================================\")\n",
    "    hitung_kebutuhan_kalori()\n"
   ]
  },
  {
   "cell_type": "markdown",
   "metadata": {},
   "source": [
    "**Menambahkan angka ganjil/genap dalam list**"
   ]
  },
  {
   "cell_type": "code",
   "execution_count": 3,
   "metadata": {},
   "outputs": [
    {
     "name": "stdout",
     "output_type": "stream",
     "text": [
      "List angka = [32, 4, 12, 64, 2, 3, 6, 23, 21, 53, 34, 64, 3, 2, 6, 23, 64, 86, 4, 6, 8, 45]\n",
      "SUM angka ganjil: 171\n",
      "SUM angka genap: 394\n"
     ]
    }
   ],
   "source": [
    "# Meminta pengguna memasukkan list angka\n",
    "input_angka = input(\"Masukkan angka : \")\n",
    "list_angka = [int(angka) for angka in input_angka.split()]\n",
    "\n",
    "# Inisialisasi total untuk angka ganjil dan genap\n",
    "total_ganjil = 0\n",
    "total_genap = 0\n",
    "\n",
    "# Iterasi melalui setiap angka dalam list\n",
    "for angka in list_angka:\n",
    "    if angka % 2 == 0:  # Angka genap\n",
    "        total_genap += angka\n",
    "    else:  # Angka ganjil\n",
    "        total_ganjil += angka\n",
    "\n",
    "# Menampilkan hasil\n",
    "print(\"List angka =\", list_angka)\n",
    "print(\"SUM angka ganjil:\", total_ganjil)\n",
    "print(\"SUM angka genap:\", total_genap)"
   ]
  },
  {
   "cell_type": "markdown",
   "metadata": {},
   "source": [
    "**BMI Calculator**"
   ]
  },
  {
   "cell_type": "code",
   "execution_count": 4,
   "metadata": {},
   "outputs": [
    {
     "name": "stdout",
     "output_type": "stream",
     "text": [
      "\n",
      "Hasil\n",
      "Kelompok: Kurus\n",
      "Kategori: Kekurangan berat badan tingkat berat\n"
     ]
    }
   ],
   "source": [
    "# Meminta input tinggi dan berat dari pengguna\n",
    "tinggi_cm = float(input(\"Masukkan Tinggi (cm): \"))\n",
    "berat_kg = float(input(\"Masukkan Berat (kg): \"))\n",
    "\n",
    "# Menghitung BMI\n",
    "tinggi_m = tinggi_cm / 100  # Mengonversi tinggi ke meter\n",
    "bmi = berat_kg / (tinggi_m ** 2)\n",
    "\n",
    "# Menentukan kelompok dan kategori BMI\n",
    "if bmi < 17:\n",
    "    kelompok = \"Kurus\"\n",
    "    kategori = \"Kekurangan berat badan tingkat berat\"\n",
    "elif 17 <= bmi < 18.5:\n",
    "    kelompok = \"Kurus\"\n",
    "    kategori = \"Kekurangan berat badan tingkat rendah\"\n",
    "elif 18.5 <= bmi < 25:\n",
    "    kelompok = \"Normal\"\n",
    "    kategori = \"Normal\"\n",
    "elif 25 <= bmi < 27:\n",
    "    kelompok = \"Gemuk\"\n",
    "    kategori = \"Kelebihan berat badan tingkat ringan\"\n",
    "else:\n",
    "    kelompok = \"Gemuk\"\n",
    "    kategori = \"Kelebihan berat badan tingkat berat\"\n",
    "\n",
    "# Menampilkan hasil\n",
    "print(\"\\nHasil\")\n",
    "print(\"Kelompok:\", kelompok)\n",
    "print(\"Kategori:\", kategori)"
   ]
  },
  {
   "cell_type": "markdown",
   "metadata": {},
   "source": [
    "**Aplikasi Supplier Toko**"
   ]
  },
  {
   "cell_type": "code",
   "execution_count": 5,
   "metadata": {},
   "outputs": [
    {
     "name": "stdout",
     "output_type": "stream",
     "text": [
      "\n",
      "Data Pelanggan:\n",
      "Kode Pelanggan: P001\n",
      "Nama Pelanggan: Syadda\n",
      "Alamat Pelanggan: Bandung\n",
      "\n",
      "Kode Pelanggan: P002\n",
      "Nama Pelanggan: Abdullah\n",
      "Alamat Pelanggan: Jakarta\n",
      "\n",
      "Supplier yang disediakan:\n",
      "Kode Supplier: S001\n",
      "Nama Supplier: PT.Indomei\n",
      "Status: Tersedia\n",
      "Kota: Jakarta\n",
      "\n",
      "Kode Supplier: S002\n",
      "Nama Supplier: PT.Hondi\n",
      "Status: Tersedia\n",
      "Kota: Bandung\n",
      "\n",
      "Barang yang dibeli:\n",
      "Kode Pelanggan: P001\n",
      "Kode Pelanggan: P002\n",
      "Pelanggan dengan jumlah barang terbanyak: Syadda\n",
      "Pelanggan dengan transaksi terbesar: Syadda\n"
     ]
    }
   ],
   "source": [
    "# Inisialisasi data pelanggan, supplier, dan barang\n",
    "pelanggan = []\n",
    "supplier = []\n",
    "barang = []\n",
    "\n",
    "# Fungsi untuk memasukkan data pelanggan\n",
    "def tambah_pelanggan():\n",
    "    kode_pelanggan = input(\"Masukkan Kode Pelanggan: \")\n",
    "    nama_pelanggan = input(\"Masukkan Nama Pelanggan: \")\n",
    "    alamat_pelanggan = input(\"Masukkan Alamat Pelanggan: \")\n",
    "\n",
    "    data_pelanggan = {\n",
    "        'kode': kode_pelanggan,\n",
    "        'nama': nama_pelanggan,\n",
    "        'alamat': alamat_pelanggan,\n",
    "        'barang': []\n",
    "    }\n",
    "    pelanggan.append(data_pelanggan)\n",
    "\n",
    "# Fungsi untuk memasukkan data supplier\n",
    "def tambah_supplier():\n",
    "    kode_supplier = input(\"Masukkan Kode Supplier: \")\n",
    "    nama_supplier = input(\"Masukkan Nama Supplier: \")\n",
    "    status_supplier = input(\"Status Supplier: \")\n",
    "    kota_supplier = input(\"Masukkan Kota Supplier: \")\n",
    "\n",
    "    data_supplier = {\n",
    "        'kode': kode_supplier,\n",
    "        'nama': nama_supplier,\n",
    "        'status': status_supplier,\n",
    "        'kota': kota_supplier\n",
    "    }\n",
    "    supplier.append(data_supplier)\n",
    "\n",
    "# Fungsi untuk memasukkan data barang\n",
    "def tambah_barang():\n",
    "    kode_barang = input(\"Masukkan Kode Barang: \")\n",
    "    nama_barang = input(\"Masukkan Nama Barang: \")\n",
    "    harga_barang = float(input(\"Masukkan Harga Barang: \"))\n",
    "    jumlah_barang = int(input(\"Masukkan Jumlah Barang: \"))\n",
    "\n",
    "    data_barang = {\n",
    "        'kode': kode_barang,\n",
    "        'nama': nama_barang,\n",
    "        'harga': harga_barang,\n",
    "        'jumlah': jumlah_barang\n",
    "    }\n",
    "    barang.append(data_barang)\n",
    "\n",
    "# Fungsi untuk menentukan pelanggan dengan jumlah barang terbanyak\n",
    "def pelanggan_terbanyak():\n",
    "    max_barang = max(pelanggan, key=lambda x: sum(barang['jumlah'] for barang in x['barang']))\n",
    "    return max_barang\n",
    "\n",
    "# Fungsi untuk menentukan pelanggan dengan transaksi terbesar\n",
    "def transaksi_terbesar():\n",
    "    max_transaksi = max(pelanggan, key=lambda x: sum(barang['harga'] * barang['jumlah'] for barang in x['barang']))\n",
    "    return max_transaksi\n",
    "\n",
    "# Meminta input jumlah pelanggan\n",
    "jumlah_pelanggan = int(input(\"Masukkan Jumlah Pelanggan: \"))\n",
    "\n",
    "# Memasukkan data pelanggan, supplier, dan barang\n",
    "for _ in range(jumlah_pelanggan):\n",
    "    tambah_pelanggan()\n",
    "    tambah_supplier()\n",
    "    tambah_barang()\n",
    "\n",
    "# Menampilkan data pelanggan\n",
    "print(\"\\nData Pelanggan:\")\n",
    "for data in pelanggan:\n",
    "    print(f\"Kode Pelanggan: {data['kode']}\")\n",
    "    print(f\"Nama Pelanggan: {data['nama']}\")\n",
    "    print(f\"Alamat Pelanggan: {data['alamat']}\")\n",
    "    print(\"\")\n",
    "\n",
    "# Menampilkan data supplier\n",
    "print(\"Supplier yang disediakan:\")\n",
    "for data in supplier:\n",
    "    print(f\"Kode Supplier: {data['kode']}\")\n",
    "    print(f\"Nama Supplier: {data['nama']}\")\n",
    "    print(f\"Status: {data['status']}\")\n",
    "    print(f\"Kota: {data['kota']}\")\n",
    "    print(\"\")\n",
    "\n",
    "# Menampilkan data barang yang dibeli oleh pelanggan\n",
    "print(\"Barang yang dibeli:\")\n",
    "for pelanggan_data in pelanggan:\n",
    "    print(f\"Kode Pelanggan: {pelanggan_data['kode']}\")\n",
    "    for barang_data in pelanggan_data['barang']:\n",
    "        print(f\"Kode Barang: {barang_data['kode']}\")\n",
    "        print(f\"Nama Barang: {barang_data['nama']}\")\n",
    "        print(f\"Harga: {barang_data['harga']}\")\n",
    "        print(f\"Jumlah: {barang_data['jumlah']}\")\n",
    "        print(\"\")\n",
    "\n",
    "# Menampilkan pelanggan dengan jumlah barang terbanyak\n",
    "pelanggan_max_barang = pelanggan_terbanyak()\n",
    "print(f\"Pelanggan dengan jumlah barang terbanyak: {pelanggan_max_barang['nama']}\")\n",
    "\n",
    "# Menampilkan pelanggan dengan transaksi terbesar\n",
    "pelanggan_max_transaksi = transaksi_terbesar()\n",
    "print(f\"Pelanggan dengan transaksi terbesar: {pelanggan_max_transaksi['nama']}\")"
   ]
  },
  {
   "cell_type": "markdown",
   "metadata": {},
   "source": [
    "**Membuat Matriks 3 x 3**"
   ]
  },
  {
   "cell_type": "code",
   "execution_count": 6,
   "metadata": {},
   "outputs": [
    {
     "name": "stdout",
     "output_type": "stream",
     "text": [
      "Membuat Matriks 3x3\n",
      "===================\n",
      "Matriks 3x3 yang dihasilkan:\n",
      "10 23 4\n",
      "12 42 12\n",
      "2 53 6\n"
     ]
    }
   ],
   "source": [
    "def buat_matriks():\n",
    "    # Meminta pengguna memasukkan angka dalam satu baris\n",
    "    input_baris = input(\"Masukkan 9 angka (dipisahkan oleh spasi): \")\n",
    "\n",
    "    # Memisahkan angka-angka yang dimasukkan oleh pengguna\n",
    "    angka = input_baris.split()\n",
    "\n",
    "    # Memeriksa apakah ada tepat 9 angka dalam input\n",
    "    if len(angka) != 9:\n",
    "        print(\"Anda harus memasukkan tepat 9 angka.\")\n",
    "        return\n",
    "\n",
    "    # Membuat matriks 3x3 dari angka-angka yang dimasukkan\n",
    "    matriks = []\n",
    "    for i in range(0, 9, 3):\n",
    "        baris = [int(angka[i]), int(angka[i + 1]), int(angka[i + 2])]\n",
    "        matriks.append(baris)\n",
    "\n",
    "    # Mencetak matriks\n",
    "    print(\"Matriks 3x3 yang dihasilkan:\")\n",
    "    for baris in matriks:\n",
    "        print(baris[0], baris[1], baris[2])\n",
    "\n",
    "if __name__ == \"__main__\":\n",
    "    print(\"Membuat Matriks 3x3\")\n",
    "    print(\"===================\")\n",
    "    buat_matriks()\n"
   ]
  }
 ],
 "metadata": {
  "kernelspec": {
   "display_name": "Python 3",
   "language": "python",
   "name": "python3"
  },
  "language_info": {
   "codemirror_mode": {
    "name": "ipython",
    "version": 3
   },
   "file_extension": ".py",
   "mimetype": "text/x-python",
   "name": "python",
   "nbconvert_exporter": "python",
   "pygments_lexer": "ipython3",
   "version": "3.11.0"
  }
 },
 "nbformat": 4,
 "nbformat_minor": 2
}
