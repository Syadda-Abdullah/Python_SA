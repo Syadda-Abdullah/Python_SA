{
 "cells": [
  {
   "cell_type": "markdown",
   "metadata": {},
   "source": [
    "**Menentukan Rata Rata**"
   ]
  },
  {
   "cell_type": "code",
   "execution_count": 3,
   "metadata": {},
   "outputs": [
    {
     "name": "stdout",
     "output_type": "stream",
     "text": [
      "Nilai rata-rata dari 4 mahasiswa adalah: 78.25\n"
     ]
    }
   ],
   "source": [
    "# Input\n",
    "jumlah_mahasiswa = int(input(\"Masukkan jumlah mahasiswa: \"))\n",
    "\n",
    "total_nilai = 0\n",
    "\n",
    "# Loop\n",
    "for i in range(jumlah_mahasiswa):\n",
    "    nilai = float(input(f\"Masukkan nilai mahasiswa {i + 1}: \"))\n",
    "    total_nilai += nilai\n",
    "\n",
    "# Rata Rata\n",
    "rata_rata = total_nilai / jumlah_mahasiswa\n",
    "\n",
    "# Output\n",
    "print(f\"Nilai rata-rata dari {jumlah_mahasiswa} mahasiswa adalah: {rata_rata:.2f}\")"
   ]
  },
  {
   "cell_type": "markdown",
   "metadata": {},
   "source": [
    "**Mengkonversi Suhu**"
   ]
  },
  {
   "cell_type": "code",
   "execution_count": 2,
   "metadata": {},
   "outputs": [
    {
     "name": "stdout",
     "output_type": "stream",
     "text": [
      "Ketik C untuk Celcius\n",
      "Ketik R untuk Reamur\n",
      "Ketik F untuk Fahrenheit\n",
      "Ketik K untuk Kelvin\n",
      "Suhu yang diinputkan adalah 40.0 c\n",
      "Hasil konversi ke f adalah 104.0 f\n"
     ]
    }
   ],
   "source": [
    "suhu_awal = float(input(\"Masukkan suhu awal: \"))\n",
    "\n",
    "print(\"Ketik C untuk Celcius\")\n",
    "print(\"Ketik R untuk Reamur\")\n",
    "print(\"Ketik F untuk Fahrenheit\")\n",
    "print(\"Ketik K untuk Kelvin\")\n",
    "\n",
    "satuan_awal = input(\"Satuan Suhu Awal: \").lower()\n",
    "satuan_akhir = input(\"Satuan Suhu Akhir: \").lower()\n",
    "\n",
    "if satuan_awal in ['c', 'r', 'f', 'k']:\n",
    "    if satuan_awal == 'c':\n",
    "        if satuan_akhir == 'f':\n",
    "            hasil_konversi = (suhu_awal * 9/5) + 32\n",
    "        elif satuan_akhir == 'r':\n",
    "            hasil_konversi = suhu_awal * 4/5\n",
    "        elif satuan_akhir == 'k':\n",
    "            hasil_konversi = suhu_awal + 273.15\n",
    "        else:\n",
    "            print(\"Satuan suhu akhir tidak valid\")\n",
    "    elif satuan_awal == 'r':\n",
    "        if satuan_akhir == 'c':\n",
    "            hasil_konversi = suhu_awal * 5/4\n",
    "        # Tambahkan pilihan konversi lainnya\n",
    "    elif satuan_awal == 'f':\n",
    "        if satuan_akhir == 'c':\n",
    "            hasil_konversi = (suhu_awal - 32) * 5/9\n",
    "        # Tambahkan pilihan konversi lainnya\n",
    "    elif satuan_awal == 'k':\n",
    "        if satuan_akhir == 'c':\n",
    "            hasil_konversi = suhu_awal - 273.15\n",
    "        # Tambahkan pilihan konversi lainnya\n",
    "    else:\n",
    "        print(\"Satuan suhu akhir tidak valid\")\n",
    "else:\n",
    "    print(\"Satuan suhu awal tidak valid\")\n",
    "\n",
    "if 'hasil_konversi' in locals():\n",
    "    print(f\"Suhu yang diinputkan adalah {suhu_awal} {satuan_awal}\")\n",
    "    print(f\"Hasil konversi ke {satuan_akhir} adalah {hasil_konversi} {satuan_akhir}\")\n"
   ]
  }
 ],
 "metadata": {
  "kernelspec": {
   "display_name": "Python 3",
   "language": "python",
   "name": "python3"
  },
  "language_info": {
   "codemirror_mode": {
    "name": "ipython",
    "version": 3
   },
   "file_extension": ".py",
   "mimetype": "text/x-python",
   "name": "python",
   "nbconvert_exporter": "python",
   "pygments_lexer": "ipython3",
   "version": "3.11.0"
  }
 },
 "nbformat": 4,
 "nbformat_minor": 2
}
