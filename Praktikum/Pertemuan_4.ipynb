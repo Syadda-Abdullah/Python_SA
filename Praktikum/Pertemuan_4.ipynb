{
 "cells": [
  {
   "cell_type": "markdown",
   "metadata": {},
   "source": [
    "**Menentukan Kata Palindrom**"
   ]
  },
  {
   "cell_type": "code",
   "execution_count": 2,
   "metadata": {},
   "outputs": [
    {
     "name": "stdout",
     "output_type": "stream",
     "text": [
      "Kalimat ini adalah palindrom.\n"
     ]
    }
   ],
   "source": [
    "def is_palindrome(kalimat):\n",
    "    # Menghapus spasi dan huruf menjadi kecil\n",
    "    kalimat = kalimat.replace(\" \", \"\").lower()\n",
    "\n",
    "    # Mengecek palindrom\n",
    "    return kalimat == kalimat[::-1]\n",
    "\n",
    "# input\n",
    "kalimat = input(\"Masukkan kalimat: \")\n",
    "\n",
    "# Memeriksa Palindrom atau tidak\n",
    "if is_palindrome(kalimat):\n",
    "    print(\"Kalimat ini adalah palindrom.\")\n",
    "else:\n",
    "    print(\"Kalimat ini bukan palindrom.\")"
   ]
  },
  {
   "cell_type": "markdown",
   "metadata": {},
   "source": [
    "**Menentukan Bilangan Ganjil Dari Perulangan**"
   ]
  },
  {
   "cell_type": "code",
   "execution_count": 3,
   "metadata": {},
   "outputs": [
    {
     "name": "stdout",
     "output_type": "stream",
     "text": [
      "Bilangan ganjil dari 1 sampai 15 adalah:\n",
      "1\n",
      "3\n",
      "5\n",
      "7\n",
      "9\n",
      "11\n",
      "13\n",
      "15\n"
     ]
    }
   ],
   "source": [
    "n = int(input(\"Masukkan angka batas akhir: \"))\n",
    "pilihan = input(\"Pilih jenis bilangan (genap/ganjil): \").lower()\n",
    "\n",
    "if pilihan == \"genap\":\n",
    "    tipe_bilangan = \"genap\"\n",
    "    batasan = 2\n",
    "elif pilihan == \"ganjil\":\n",
    "    tipe_bilangan = \"ganjil\"\n",
    "    batasan = 1\n",
    "else:\n",
    "    print(\"Pilihan tidak valid. Harap masukkan 'genap' atau 'ganjil'.\")\n",
    "    exit()\n",
    "\n",
    "print(f\"Bilangan {tipe_bilangan} dari 1 sampai {n} adalah:\")\n",
    "for i in range(batasan, n + 1, 2):\n",
    "    print(i)"
   ]
  },
  {
   "cell_type": "markdown",
   "metadata": {},
   "source": [
    "**Calculator**"
   ]
  },
  {
   "cell_type": "code",
   "execution_count": 4,
   "metadata": {},
   "outputs": [
    {
     "name": "stdout",
     "output_type": "stream",
     "text": [
      "Pilih operasi:\n",
      "1. Pertambahan\n",
      "2. Pengurangan\n",
      "3. Perkalian\n",
      "4. Pembagian\n",
      "Hasil: 15.0\n"
     ]
    }
   ],
   "source": [
    "# Fungsi untuk pertambahan\n",
    "def tambah(x, y):\n",
    "    return x + y\n",
    "\n",
    "# Fungsi untuk pengurangan\n",
    "def kurang(x, y):\n",
    "    return x - y\n",
    "\n",
    "# Fungsi untuk perkalian\n",
    "def kali(x, y):\n",
    "    return x * y\n",
    "\n",
    "# Fungsi untuk pembagian\n",
    "def bagi(x, y):\n",
    "    if y == 0:\n",
    "        return \"Tidak dapat membagi oleh nol\"\n",
    "    return x / y\n",
    "\n",
    "# Tampilan menu\n",
    "print(\"Pilih operasi:\")\n",
    "print(\"1. Pertambahan\")\n",
    "print(\"2. Pengurangan\")\n",
    "print(\"3. Perkalian\")\n",
    "print(\"4. Pembagian\")\n",
    "\n",
    "# Meminta input dari pengguna\n",
    "pilihan = input(\"Masukkan nomor operasi (1/2/3/4): \")\n",
    "\n",
    "angka1 = float(input(\"Masukkan angka pertama: \"))\n",
    "angka2 = float(input(\"Masukkan angka kedua: \"))\n",
    "\n",
    "if pilihan == '1':\n",
    "    print(\"Hasil:\", tambah(angka1, angka2))\n",
    "elif pilihan == '2':\n",
    "    print(\"Hasil:\", kurang(angka1, angka2))\n",
    "elif pilihan == '3':\n",
    "    print(\"Hasil:\", kali(angka1, angka2))\n",
    "elif pilihan == '4':\n",
    "    print(\"Hasil:\", bagi(angka1, angka2))\n",
    "else:\n",
    "    print(\"Pilihan operasi tidak valid\")"
   ]
  }
 ],
 "metadata": {
  "kernelspec": {
   "display_name": "Python 3",
   "language": "python",
   "name": "python3"
  },
  "language_info": {
   "codemirror_mode": {
    "name": "ipython",
    "version": 3
   },
   "file_extension": ".py",
   "mimetype": "text/x-python",
   "name": "python",
   "nbconvert_exporter": "python",
   "pygments_lexer": "ipython3",
   "version": "3.11.0"
  }
 },
 "nbformat": 4,
 "nbformat_minor": 2
}
